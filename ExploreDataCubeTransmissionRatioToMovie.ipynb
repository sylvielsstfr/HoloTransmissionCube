{
 "cells": [
  {
   "cell_type": "markdown",
   "id": "aa1e7082",
   "metadata": {},
   "source": [
    "# Data Cube View transmission efficiency ration uniformity to produce multi gif"
   ]
  },
  {
   "cell_type": "markdown",
   "id": "657f89cc",
   "metadata": {},
   "source": [
    "- author : Sylvie Dagoret-Campagne\n",
    "- affiliation : IJCLab/IN2P3/CNRS\n",
    "- creation date : February 18th 2022 "
   ]
  },
  {
   "cell_type": "markdown",
   "id": "b264787a",
   "metadata": {},
   "source": [
    "## Import"
   ]
  },
  {
   "cell_type": "code",
   "execution_count": null,
   "id": "2d4b97cd",
   "metadata": {},
   "outputs": [],
   "source": [
    "%matplotlib inline\n",
    "import numpy as np\n",
    "import pandas as pd\n",
    "import matplotlib.pyplot as plt\n",
    "#from mpl_toolkits.axes_grid1 import make_axes_locatable\n",
    "from mpl_toolkits.axes_grid1.axes_divider import make_axes_locatable\n",
    "import scipy.stats\n",
    "import sys\n",
    "sys.path.append('../')"
   ]
  },
  {
   "cell_type": "code",
   "execution_count": null,
   "id": "4106a0c0",
   "metadata": {},
   "outputs": [],
   "source": [
    "plt.rcParams[\"figure.figsize\"] = (16,4)\n",
    "plt.rcParams[\"axes.labelsize\"] = 'xx-large'\n",
    "plt.rcParams['axes.titlesize'] = 'xx-large'\n",
    "plt.rcParams['xtick.labelsize']= 'xx-large'\n",
    "plt.rcParams['ytick.labelsize']= 'xx-large'\n",
    "plt.rcParams['figure.max_open_warning'] = 0"
   ]
  },
  {
   "cell_type": "code",
   "execution_count": null,
   "id": "daa44df4",
   "metadata": {},
   "outputs": [],
   "source": [
    "import os"
   ]
  },
  {
   "cell_type": "code",
   "execution_count": null,
   "id": "420f5672",
   "metadata": {},
   "outputs": [],
   "source": [
    "print(sys.executable)\n",
    "print(sys.version)\n",
    "#print(sys.version_info)"
   ]
  },
  {
   "cell_type": "code",
   "execution_count": null,
   "id": "0357a77e",
   "metadata": {},
   "outputs": [],
   "source": []
  },
  {
   "cell_type": "code",
   "execution_count": null,
   "id": "f6272e75",
   "metadata": {},
   "outputs": [],
   "source": [
    "from scipy.interpolate import griddata\n",
    "from scipy import interpolate\n",
    "from scipy.interpolate import Rbf"
   ]
  },
  {
   "cell_type": "markdown",
   "id": "90b88f30",
   "metadata": {},
   "source": [
    "## Configuration"
   ]
  },
  {
   "cell_type": "code",
   "execution_count": null,
   "id": "10345092",
   "metadata": {},
   "outputs": [],
   "source": [
    "WL = np.arange(441,1020,2) # for interpolation cannot do less\n",
    "NWL = len(WL)"
   ]
  },
  {
   "cell_type": "code",
   "execution_count": null,
   "id": "9c4d27fd",
   "metadata": {},
   "outputs": [],
   "source": [
    "NWL"
   ]
  },
  {
   "cell_type": "code",
   "execution_count": null,
   "id": "0aceb77b",
   "metadata": {},
   "outputs": [],
   "source": [
    "XMIN = -4.5\n",
    "XMAX = 4.5\n",
    "YMIN = -4.5\n",
    "YMAX = 4.5\n",
    "NX=50\n",
    "NY=50"
   ]
  },
  {
   "cell_type": "code",
   "execution_count": null,
   "id": "0bffd985",
   "metadata": {},
   "outputs": [],
   "source": [
    "grid_x, grid_y = np.mgrid[XMIN:XMAX:50j, YMIN:YMAX:50j]"
   ]
  },
  {
   "cell_type": "code",
   "execution_count": null,
   "id": "731fcbe5",
   "metadata": {},
   "outputs": [],
   "source": [
    "cmap=\"jet\""
   ]
  },
  {
   "cell_type": "markdown",
   "id": "6f12476d",
   "metadata": {},
   "source": [
    "## Utility Functions"
   ]
  },
  {
   "cell_type": "code",
   "execution_count": null,
   "id": "60fc9310",
   "metadata": {},
   "outputs": [],
   "source": [
    "def get_list_of_position(arr):\n",
    "    \"\"\"\n",
    "    Return the list of positions\n",
    "    \"\"\"\n",
    "    \n",
    "    \n",
    "    ListOfPositions = [] \n",
    "    arrsize=len(arr)\n",
    "    Npos=0\n",
    "    \n",
    "    for idx in np.arange(arrsize):\n",
    "    \n",
    "        currentposition = (arr[idx][1], arr[idx][2] )\n",
    "    \n",
    "        if currentposition not in ListOfPositions:\n",
    "            ListOfPositions.append(currentposition)\n",
    "            Npos+=1\n",
    "            \n",
    "            \n",
    "    return Npos, ListOfPositions\n",
    "    "
   ]
  },
  {
   "cell_type": "code",
   "execution_count": null,
   "id": "09de7f6f",
   "metadata": {},
   "outputs": [],
   "source": [
    "def get_list_of_transmissions(arr):\n",
    "    \"\"\"\n",
    "    \n",
    "    \"\"\"\n",
    "    \n",
    "    Narr=len(arr)\n",
    "    Npos,list_of_position = get_list_of_position(arr)\n",
    "    \n",
    "    collectedtransmissions = np.empty(Npos, dtype=np.object)\n",
    "    \n",
    "    for idx in np.arange(Narr):   \n",
    "        currentposition = (arr[idx][1], arr[idx][2])\n",
    "        currentvalues = (arr[idx][3],arr[idx][4], arr[idx][5] )\n",
    "  \n",
    "    \n",
    "        idx2=-1\n",
    "        for position in list_of_position:\n",
    "            idx2+=1\n",
    "            \n",
    "            if position == currentposition:\n",
    "            \n",
    "                if collectedtransmissions[idx2] == None:\n",
    "                    collectedtransmissions[idx2] = []\n",
    "                    collectedtransmissions[idx2].append(currentvalues)\n",
    "                else:\n",
    "                    collectedtransmissions[idx2].append(currentvalues)\n",
    "                       \n",
    "    \n",
    "    return collectedtransmissions        "
   ]
  },
  {
   "cell_type": "code",
   "execution_count": null,
   "id": "b2a164c5",
   "metadata": {},
   "outputs": [],
   "source": [
    "def find_nearest_point(list_of_points,x0=0,y0=0):\n",
    "    \n",
    "    N=len(list_of_points)\n",
    "    distances = []\n",
    "    \n",
    "    for pos in list_of_points:\n",
    "        dx=pos[0]-x0\n",
    "        dy=pos[1]-y0\n",
    "        distances.append(np.sqrt(dx**2 + dy**2))\n",
    "    \n",
    "    distances = np.array(distances)\n",
    "    \n",
    "    idx0 = np.where(distances == distances.min())[0][0]\n",
    "    \n",
    "    return idx0,distances[idx0]\n",
    "    "
   ]
  },
  {
   "cell_type": "code",
   "execution_count": null,
   "id": "db1402b8",
   "metadata": {},
   "outputs": [],
   "source": [
    "def get_transmission_center(arr,x0=0,y0=0):\n",
    "    \"\"\"\n",
    "    return the transmission of existing position (x0,y0) \n",
    "    \n",
    "    \"\"\"\n",
    "    \n",
    "    wl0 = np.array([], dtype=np.float64)\n",
    "    eff0 = np.array([], dtype=np.float64)\n",
    "    eeff0 = np.array([], dtype=np.float64)\n",
    "    \n",
    "    Npos,list_of_position = get_list_of_position(arr)\n",
    "    arr_ext = get_list_of_transmissions(arr)\n",
    "    \n",
    "    idx0,d0=find_nearest_point(list_of_position,x0=x0,y0=y0)\n",
    "     \n",
    "    \n",
    "    # loop on different positions\n",
    "    for idx in np.arange(Npos):    \n",
    "        list_of_datapoints = arr_ext[idx]\n",
    "        x,y = list_of_position[idx]\n",
    "    \n",
    "        if idx==idx0:\n",
    "            wl,eff,eeff = zip(*list_of_datapoints)   \n",
    "            wl0 = wl\n",
    "            eff0 = eff\n",
    "            eeff0 =eeff          \n",
    "        \n",
    "    return wl0,eff0,eeff0\n",
    "       "
   ]
  },
  {
   "cell_type": "code",
   "execution_count": null,
   "id": "39836e64",
   "metadata": {},
   "outputs": [],
   "source": [
    "def get_gridded_interpolated1d_effratio(wlin,arr,x0=0,y0=0):\n",
    "    \"\"\"\n",
    "    Return the grid of interpolated efficiencies ratio wrt point position (x0,y0)\n",
    "    \n",
    "    input:\n",
    "    - wlin : input wavelength\n",
    "    - input array\n",
    "    \n",
    "    output:\n",
    "    - list of efficiencies ratio related to the list_of_position\n",
    "    \n",
    "    \"\"\"\n",
    "    # ratio taken with respect to (x0,y0)\n",
    "    wl0,eff0,eeff0 = get_transmission_center(arr,x0=x0,y0=y0)\n",
    "    f0 = interpolate.interp1d(wl0,eff0)\n",
    "    eff_0 = f0(wlin)\n",
    "    \n",
    "    \n",
    "    Npos,list_of_position = get_list_of_position(arr)\n",
    "    arr_ext = get_list_of_transmissions(arr)\n",
    "    \n",
    "    all_effratio=np.zeros(Npos)\n",
    "    \n",
    "    # loop on different positions\n",
    "    for idx in np.arange(Npos):    \n",
    "        list_of_datapoints = arr_ext[idx]\n",
    "        x,y = list_of_position[idx]\n",
    "        wl,eff,eeff = zip(*list_of_datapoints)   \n",
    "        \n",
    "        #print(\"get_gridded_interpolated1d_eff : \",min(wl),max(wl))\n",
    "           \n",
    "        f = interpolate.interp1d(wl,eff)\n",
    "        \n",
    "        eff = f(wlin)\n",
    "        effratio = eff/eff_0\n",
    "        all_effratio[idx] = effratio\n",
    "        \n",
    "    return all_effratio    "
   ]
  },
  {
   "cell_type": "code",
   "execution_count": null,
   "id": "2205fe8b",
   "metadata": {},
   "outputs": [],
   "source": [
    "def get_interpolated2d_effratio(arr,interpolation_method='rbf'):\n",
    "    \"\"\"\n",
    "    Cube of transmission efficiency ratio\n",
    "    \n",
    "    \"\"\"  \n",
    "    Npos,list_of_position = get_list_of_position(arr)\n",
    "    \n",
    "    arr_ext = get_list_of_transmissions(arr)\n",
    "    \n",
    "    x,y = list(zip(*list_of_position))\n",
    "    \n",
    "    \n",
    "    # container of interpolated efficiencies ratio\n",
    "    all_interp_effratio_data =np.zeros((NX,NY,NWL))\n",
    "    \n",
    "    # loop on wavelength\n",
    "    for idxwl,thewl in np.ndenumerate(WL):\n",
    "        indexwl = idxwl[0]\n",
    "        \n",
    "        \n",
    "        # list of efficiencies ratio at that wavelength of each position\n",
    "        effratio = get_gridded_interpolated1d_effratio(thewl,arr)\n",
    "        \n",
    "        if interpolation_method == 'rbf':\n",
    "            rbf = Rbf(x, y, effratio)\n",
    "            Z = rbf(grid_x, grid_y)\n",
    "            \n",
    "        all_interp_effratio_data[:,:,indexwl] = Z.T\n",
    "        \n",
    "    return all_interp_effratio_data\n",
    "       "
   ]
  },
  {
   "cell_type": "markdown",
   "id": "ad0f2ed8",
   "metadata": {},
   "source": [
    "# Read Input file"
   ]
  },
  {
   "cell_type": "code",
   "execution_count": null,
   "id": "b68e0e7e",
   "metadata": {},
   "outputs": [],
   "source": [
    "datadir=\"data\"\n",
    "files_list= os.listdir(datadir)\n",
    "print(files_list)\n",
    "filename=files_list[1]\n",
    "filename = '20200211-holo-4-003-uniformity-datacube.npy'\n",
    "fullfilename=os.path.join(datadir,filename)\n",
    "print(fullfilename)"
   ]
  },
  {
   "cell_type": "code",
   "execution_count": null,
   "id": "d634a055",
   "metadata": {},
   "outputs": [],
   "source": [
    "arr=np.load(fullfilename)"
   ]
  },
  {
   "cell_type": "code",
   "execution_count": null,
   "id": "9f5ca71f",
   "metadata": {},
   "outputs": [],
   "source": [
    "arr.shape"
   ]
  },
  {
   "cell_type": "code",
   "execution_count": null,
   "id": "97d28404",
   "metadata": {},
   "outputs": [],
   "source": [
    "NARR=arr.shape[0]"
   ]
  },
  {
   "cell_type": "code",
   "execution_count": null,
   "id": "90091ba8",
   "metadata": {},
   "outputs": [],
   "source": [
    "arr"
   ]
  },
  {
   "cell_type": "code",
   "execution_count": null,
   "id": "00247343",
   "metadata": {},
   "outputs": [],
   "source": [
    "order0 = arr[\"order\"]== 0\n",
    "order1 = arr[\"order\"]== 1\n",
    "order2 = arr[\"order\"]== 2"
   ]
  },
  {
   "cell_type": "code",
   "execution_count": null,
   "id": "f513887e",
   "metadata": {},
   "outputs": [],
   "source": [
    "arr_0 = arr[order0]\n",
    "arr_1 = arr[order1]\n",
    "arr_2 = arr[order2]"
   ]
  },
  {
   "cell_type": "markdown",
   "id": "1efb24e2",
   "metadata": {},
   "source": [
    "# Order 1"
   ]
  },
  {
   "cell_type": "markdown",
   "id": "0a2dea33",
   "metadata": {},
   "source": [
    "## List of positions"
   ]
  },
  {
   "cell_type": "code",
   "execution_count": null,
   "id": "2ad786de",
   "metadata": {},
   "outputs": [],
   "source": [
    "Npos1,list_of_position_1 = get_list_of_position(arr_1)"
   ]
  },
  {
   "cell_type": "code",
   "execution_count": null,
   "id": "6cbe248b",
   "metadata": {},
   "outputs": [],
   "source": [
    "Npos1"
   ]
  },
  {
   "cell_type": "code",
   "execution_count": null,
   "id": "6e0af9d5",
   "metadata": {},
   "outputs": [],
   "source": [
    "print(list_of_position_1)"
   ]
  },
  {
   "cell_type": "code",
   "execution_count": null,
   "id": "3f3304ee",
   "metadata": {},
   "outputs": [],
   "source": [
    "#for idx in range(Npos1):\n",
    "#    print(idx,list_of_position_1[idx])"
   ]
  },
  {
   "cell_type": "code",
   "execution_count": null,
   "id": "8af16204",
   "metadata": {},
   "outputs": [],
   "source": [
    "#find_nearest_point(list_of_position_1,x0=4,y0=-4)"
   ]
  },
  {
   "cell_type": "code",
   "execution_count": null,
   "id": "1e22df84",
   "metadata": {},
   "outputs": [],
   "source": [
    "arr_1_ext = get_list_of_transmissions(arr_1)"
   ]
  },
  {
   "cell_type": "code",
   "execution_count": null,
   "id": "bea954b8",
   "metadata": {},
   "outputs": [],
   "source": [
    "arr_1_ext"
   ]
  },
  {
   "cell_type": "markdown",
   "id": "7361ace3",
   "metadata": {},
   "source": [
    "## Make Multiarray"
   ]
  },
  {
   "cell_type": "code",
   "execution_count": null,
   "id": "783c6767",
   "metadata": {},
   "outputs": [],
   "source": [
    "effratio_multiarray = get_interpolated2d_effratio(arr_1)"
   ]
  },
  {
   "cell_type": "code",
   "execution_count": null,
   "id": "ab88acc8",
   "metadata": {},
   "outputs": [],
   "source": [
    "effratio_multiarray.shape"
   ]
  },
  {
   "cell_type": "code",
   "execution_count": null,
   "id": "4f8f3b12",
   "metadata": {},
   "outputs": [],
   "source": [
    "effratio_multiarray.min()"
   ]
  },
  {
   "cell_type": "code",
   "execution_count": null,
   "id": "81e376ce",
   "metadata": {},
   "outputs": [],
   "source": [
    "effratio_multiarray.max()"
   ]
  },
  {
   "cell_type": "code",
   "execution_count": null,
   "id": "9b079d6e",
   "metadata": {},
   "outputs": [],
   "source": [
    "vmin=0.85\n",
    "vmax=1.15\n",
    "bounds = (XMIN,  XMAX,YMIN, YMAX)"
   ]
  },
  {
   "cell_type": "code",
   "execution_count": null,
   "id": "0b8403d4",
   "metadata": {},
   "outputs": [],
   "source": [
    "idx=0\n",
    "def producefig(idx,figdir=\"./\",figtootname=\"uniftransmratio\",numsize=3,figtype=\"png\"):\n",
    "    \n",
    "    figname = figtootname+\"_\"+str(idx).zfill(numsize)+\".\"+ figtype\n",
    "    fullfigname=os.path.join(figdir,figname)\n",
    "    \n",
    "    fig, ax = plt.subplots(nrows=1, ncols=1,figsize=(8,8))\n",
    "    im=ax.imshow(effratio_multiarray[:,:,idx],origin=\"lower\",cmap='jet',vmin=vmin,vmax=vmax,extent=bounds)\n",
    "    divider = make_axes_locatable(ax)\n",
    "    ax_divider = make_axes_locatable(ax)\n",
    "    # Add an axes to the right of the main axes.\n",
    "    cax = ax_divider.append_axes(\"right\", size=\"4%\", pad=\"2%\")\n",
    "    cb = fig.colorbar(im, cax=cax)\n",
    "    cb.set_label('transmission ratio', rotation=90)\n",
    "    cb.ax.get_yaxis().labelpad = 15\n",
    "    ax.set_xlabel(\"X(mm)\")\n",
    "    ax.set_ylabel(\"Y(mm)\")\n",
    "    thewl=WL[idx]\n",
    "    thetitle=f\"Uniformity of transmission ratio $\\lambda$ = {thewl} nm\"\n",
    "    ax.set_title(thetitle,fontsize=16,fontweight=\"bold\")\n",
    "    \n",
    "    circle = plt.Circle((0, 0), 1, color='r',fill=False)\n",
    "    ax.add_patch(circle)\n",
    "    \n",
    "    plt.savefig(fullfigname)\n",
    "    #plt.show()\n"
   ]
  },
  {
   "cell_type": "code",
   "execution_count": null,
   "id": "e24bd1eb",
   "metadata": {},
   "outputs": [],
   "source": [
    "for iwl in range(NWL):\n",
    "    producefig(iwl)"
   ]
  },
  {
   "cell_type": "markdown",
   "id": "65a82672",
   "metadata": {},
   "source": [
    "# Convert in animated gif with image magick"
   ]
  },
  {
   "cell_type": "code",
   "execution_count": null,
   "id": "53ecaadb",
   "metadata": {},
   "outputs": [],
   "source": [
    "# convert -delay 1 -loop 0 *.png animation.gif"
   ]
  },
  {
   "cell_type": "code",
   "execution_count": null,
   "id": "e4b4a158",
   "metadata": {},
   "outputs": [],
   "source": [
    "import subprocess\n",
    "def grid2gif(image_str, output_gif):\n",
    "    str1 = 'convert -delay 1 -loop 0 ' + image_str  + ' ' + output_gif\n",
    "    subprocess.call(str1, shell=True)"
   ]
  },
  {
   "cell_type": "code",
   "execution_count": null,
   "id": "b87d5adb",
   "metadata": {},
   "outputs": [],
   "source": [
    "grid2gif(\"uniftransmratio_*.png\",\"multiuniftransmratio.gif\")"
   ]
  }
 ],
 "metadata": {
  "kernelspec": {
   "display_name": "python3_base",
   "language": "python",
   "name": "python3"
  },
  "language_info": {
   "codemirror_mode": {
    "name": "ipython",
    "version": 3
   },
   "file_extension": ".py",
   "mimetype": "text/x-python",
   "name": "python",
   "nbconvert_exporter": "python",
   "pygments_lexer": "ipython3",
   "version": "3.8.8"
  },
  "toc": {
   "base_numbering": 1,
   "nav_menu": {},
   "number_sections": true,
   "sideBar": true,
   "skip_h1_title": false,
   "title_cell": "Table of Contents",
   "title_sidebar": "Contents",
   "toc_cell": false,
   "toc_position": {},
   "toc_section_display": true,
   "toc_window_display": false
  }
 },
 "nbformat": 4,
 "nbformat_minor": 5
}
