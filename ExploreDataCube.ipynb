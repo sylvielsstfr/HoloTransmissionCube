{
 "cells": [
  {
   "cell_type": "markdown",
   "id": "aa1e7082",
   "metadata": {},
   "source": [
    "# Data Cube"
   ]
  },
  {
   "cell_type": "markdown",
   "id": "657f89cc",
   "metadata": {},
   "source": [
    "- author : Sylvie Dagoret-Campagne\n",
    "- affiliation : IJCLab/IN2P3/CNRS\n",
    "- creation date : January 7th 2027  "
   ]
  },
  {
   "cell_type": "code",
   "execution_count": 45,
   "id": "2d4b97cd",
   "metadata": {},
   "outputs": [],
   "source": [
    "%matplotlib inline\n",
    "import numpy as np\n",
    "import matplotlib.pyplot as plt\n",
    "import scipy.stats\n",
    "import sys\n",
    "sys.path.append('../')"
   ]
  },
  {
   "cell_type": "code",
   "execution_count": 46,
   "id": "daa44df4",
   "metadata": {},
   "outputs": [],
   "source": [
    "import os"
   ]
  },
  {
   "cell_type": "code",
   "execution_count": 47,
   "id": "420f5672",
   "metadata": {},
   "outputs": [
    {
     "name": "stdout",
     "output_type": "stream",
     "text": [
      "/users/dagoret/anaconda3/bin/python\n",
      "3.8.8 (default, Apr 13 2021, 12:59:45) \n",
      "[Clang 10.0.0 ]\n"
     ]
    }
   ],
   "source": [
    "print(sys.executable)\n",
    "print(sys.version)\n",
    "#print(sys.version_info)"
   ]
  },
  {
   "cell_type": "code",
   "execution_count": 48,
   "id": "1aa79b20",
   "metadata": {},
   "outputs": [],
   "source": [
    "plt.rcParams[\"figure.figsize\"] = (10,6)\n",
    "plt.rcParams[\"axes.labelsize\"] = 'xx-large'\n",
    "plt.rcParams['axes.titlesize'] = 'xx-large'\n",
    "plt.rcParams['xtick.labelsize']= 'xx-large'\n",
    "plt.rcParams['ytick.labelsize']= 'xx-large'"
   ]
  },
  {
   "cell_type": "code",
   "execution_count": 49,
   "id": "e0feb746",
   "metadata": {},
   "outputs": [
    {
     "name": "stdout",
     "output_type": "stream",
     "text": [
      "20200211-holo-4-003-uniformity-datacube.npy\r\n"
     ]
    }
   ],
   "source": [
    "!ls data"
   ]
  },
  {
   "cell_type": "markdown",
   "id": "ad0f2ed8",
   "metadata": {},
   "source": [
    "# Read Input file"
   ]
  },
  {
   "cell_type": "code",
   "execution_count": 50,
   "id": "b68e0e7e",
   "metadata": {},
   "outputs": [
    {
     "name": "stdout",
     "output_type": "stream",
     "text": [
      "['20200211-holo-4-003-uniformity-datacube.npy']\n",
      "data/20200211-holo-4-003-uniformity-datacube.npy\n"
     ]
    }
   ],
   "source": [
    "datadir=\"data\"\n",
    "files_list= os.listdir(datadir)\n",
    "print(files_list)\n",
    "filename=files_list[0]\n",
    "fullfilename=os.path.join(datadir,filename)\n",
    "print(fullfilename)"
   ]
  },
  {
   "cell_type": "code",
   "execution_count": 51,
   "id": "d634a055",
   "metadata": {},
   "outputs": [],
   "source": [
    "arr=np.load(fullfilename)"
   ]
  },
  {
   "cell_type": "raw",
   "id": "cde7f279",
   "metadata": {},
   "source": []
  },
  {
   "cell_type": "code",
   "execution_count": 52,
   "id": "9f5ca71f",
   "metadata": {},
   "outputs": [
    {
     "data": {
      "text/plain": [
       "(3443,)"
      ]
     },
     "execution_count": 52,
     "metadata": {},
     "output_type": "execute_result"
    }
   ],
   "source": [
    "arr.shape"
   ]
  },
  {
   "cell_type": "code",
   "execution_count": 53,
   "id": "97d28404",
   "metadata": {},
   "outputs": [],
   "source": [
    "NARR=arr.shape[0]"
   ]
  },
  {
   "cell_type": "code",
   "execution_count": 54,
   "id": "90091ba8",
   "metadata": {},
   "outputs": [
    {
     "data": {
      "text/plain": [
       "array([(0,  0.,  0., 400.014, 0.28404813, 7.02226350e-04),\n",
       "       (0,  0.,  0., 419.989, 0.09057611, 2.22853061e-04),\n",
       "       (0,  0.,  0., 440.023, 0.02899506, 5.77351450e-05), ...,\n",
       "       (2, -4., -4., 519.984, 0.06957727, 9.21319092e-05),\n",
       "       (2, -4., -4., 540.001, 0.05970568, 7.87463120e-05),\n",
       "       (2, -4., -4., 559.997, 0.03172864, 4.54447038e-05)],\n",
       "      dtype=[('order', '<i8'), ('dx', '<f8'), ('dy', '<f8'), ('wl', '<f8'), ('DE', '<f8'), ('DE_std', '<f8')])"
      ]
     },
     "execution_count": 54,
     "metadata": {},
     "output_type": "execute_result"
    }
   ],
   "source": [
    "arr"
   ]
  },
  {
   "cell_type": "markdown",
   "id": "f6a8d6ce",
   "metadata": {},
   "source": [
    "# Find the list of different positions"
   ]
  },
  {
   "cell_type": "code",
   "execution_count": 55,
   "id": "ee68d105",
   "metadata": {},
   "outputs": [],
   "source": [
    "ListOfPositions = [] \n",
    "Npos=0"
   ]
  },
  {
   "cell_type": "code",
   "execution_count": 56,
   "id": "f3668443",
   "metadata": {},
   "outputs": [],
   "source": [
    "for idx in np.arange(NARR):\n",
    "    \n",
    "    currentposition = (arr[idx][0],arr[idx][1], arr[idx][2] )\n",
    "    \n",
    "    if currentposition not in ListOfPositions:\n",
    "        ListOfPositions.append(currentposition)\n",
    "        Npos+=1\n",
    "        "
   ]
  },
  {
   "cell_type": "code",
   "execution_count": 57,
   "id": "6fa35a17",
   "metadata": {},
   "outputs": [
    {
     "data": {
      "text/plain": [
       "144"
      ]
     },
     "execution_count": 57,
     "metadata": {},
     "output_type": "execute_result"
    }
   ],
   "source": [
    "Npos"
   ]
  },
  {
   "cell_type": "code",
   "execution_count": 58,
   "id": "feb4cad9",
   "metadata": {},
   "outputs": [
    {
     "data": {
      "text/plain": [
       "[(0, 0.0, 0.0),\n",
       " (0, 0.0, 1.0),\n",
       " (0, 0.0, 2.0),\n",
       " (0, 0.0, 4.0),\n",
       " (0, 0.0, -1.0),\n",
       " (0, 0.0, -2.0),\n",
       " (0, 0.0, -4.0),\n",
       " (0, 1.0, 0.0),\n",
       " (0, 1.0, 1.0),\n",
       " (0, 1.0, 2.0),\n",
       " (0, 1.0, 4.0),\n",
       " (0, 1.0, -1.0),\n",
       " (0, 1.0, -2.0),\n",
       " (0, 1.0, -4.0),\n",
       " (0, 2.0, 0.0),\n",
       " (0, 2.0, 1.0),\n",
       " (0, 2.0, 2.0),\n",
       " (0, 2.0, 4.0),\n",
       " (0, 2.0, -1.0),\n",
       " (0, 2.0, -2.0),\n",
       " (0, 2.0, -4.0),\n",
       " (0, 4.0, 0.0),\n",
       " (0, 4.0, 1.0),\n",
       " (0, 4.0, 2.0),\n",
       " (0, 4.0, 4.0),\n",
       " (0, 4.0, -1.0),\n",
       " (0, 4.0, -2.0),\n",
       " (0, -1.0, 0.0),\n",
       " (0, -1.0, 1.0),\n",
       " (0, -1.0, 2.0),\n",
       " (0, -1.0, 4.0),\n",
       " (0, -1.0, -1.0),\n",
       " (0, -1.0, -2.0),\n",
       " (0, -1.0, -4.0),\n",
       " (0, -2.0, 0.0),\n",
       " (0, -2.0, 1.0),\n",
       " (0, -2.0, 2.0),\n",
       " (0, -2.0, 4.0),\n",
       " (0, -2.0, -1.0),\n",
       " (0, -2.0, -2.0),\n",
       " (0, -2.0, -4.0),\n",
       " (0, -4.0, 0.0),\n",
       " (0, -4.0, 1.0),\n",
       " (0, -4.0, 2.0),\n",
       " (0, -4.0, 4.0),\n",
       " (0, -4.0, -1.0),\n",
       " (0, -4.0, -2.0),\n",
       " (0, -4.0, -4.0),\n",
       " (1, 0.0, 0.0),\n",
       " (1, 0.0, 1.0),\n",
       " (1, 0.0, 2.0),\n",
       " (1, 0.0, 4.0),\n",
       " (1, 0.0, -1.0),\n",
       " (1, 0.0, -2.0),\n",
       " (1, 0.0, -4.0),\n",
       " (1, 1.0, 0.0),\n",
       " (1, 1.0, 1.0),\n",
       " (1, 1.0, 2.0),\n",
       " (1, 1.0, 4.0),\n",
       " (1, 1.0, -1.0),\n",
       " (1, 1.0, -2.0),\n",
       " (1, 1.0, -4.0),\n",
       " (1, 2.0, 0.0),\n",
       " (1, 2.0, 1.0),\n",
       " (1, 2.0, 2.0),\n",
       " (1, 2.0, 4.0),\n",
       " (1, 2.0, -1.0),\n",
       " (1, 2.0, -2.0),\n",
       " (1, 2.0, -4.0),\n",
       " (1, 4.0, 0.0),\n",
       " (1, 4.0, 1.0),\n",
       " (1, 4.0, 2.0),\n",
       " (1, 4.0, 4.0),\n",
       " (1, 4.0, -1.0),\n",
       " (1, 4.0, -2.0),\n",
       " (1, -1.0, 0.0),\n",
       " (1, -1.0, 1.0),\n",
       " (1, -1.0, 2.0),\n",
       " (1, -1.0, 4.0),\n",
       " (1, -1.0, -1.0),\n",
       " (1, -1.0, -2.0),\n",
       " (1, -1.0, -4.0),\n",
       " (1, -2.0, 0.0),\n",
       " (1, -2.0, 1.0),\n",
       " (1, -2.0, 2.0),\n",
       " (1, -2.0, 4.0),\n",
       " (1, -2.0, -1.0),\n",
       " (1, -2.0, -2.0),\n",
       " (1, -2.0, -4.0),\n",
       " (1, -4.0, 0.0),\n",
       " (1, -4.0, 1.0),\n",
       " (1, -4.0, 2.0),\n",
       " (1, -4.0, 4.0),\n",
       " (1, -4.0, -1.0),\n",
       " (1, -4.0, -2.0),\n",
       " (1, -4.0, -4.0),\n",
       " (2, 0.0, 0.0),\n",
       " (2, 0.0, 1.0),\n",
       " (2, 0.0, 2.0),\n",
       " (2, 0.0, 4.0),\n",
       " (2, 0.0, -1.0),\n",
       " (2, 0.0, -2.0),\n",
       " (2, 0.0, -4.0),\n",
       " (2, 1.0, 0.0),\n",
       " (2, 1.0, 1.0),\n",
       " (2, 1.0, 2.0),\n",
       " (2, 1.0, 4.0),\n",
       " (2, 1.0, -1.0),\n",
       " (2, 1.0, -2.0),\n",
       " (2, 1.0, -4.0),\n",
       " (2, 2.0, 0.0),\n",
       " (2, 2.0, 1.0),\n",
       " (2, 2.0, 2.0),\n",
       " (2, 2.0, 4.0),\n",
       " (2, 2.0, -1.0),\n",
       " (2, 2.0, -2.0),\n",
       " (2, 2.0, -4.0),\n",
       " (2, 4.0, 0.0),\n",
       " (2, 4.0, 1.0),\n",
       " (2, 4.0, 2.0),\n",
       " (2, 4.0, 4.0),\n",
       " (2, 4.0, -1.0),\n",
       " (2, 4.0, -2.0),\n",
       " (2, -1.0, 0.0),\n",
       " (2, -1.0, 1.0),\n",
       " (2, -1.0, 2.0),\n",
       " (2, -1.0, 4.0),\n",
       " (2, -1.0, -1.0),\n",
       " (2, -1.0, -2.0),\n",
       " (2, -1.0, -4.0),\n",
       " (2, -2.0, 0.0),\n",
       " (2, -2.0, 1.0),\n",
       " (2, -2.0, 2.0),\n",
       " (2, -2.0, 4.0),\n",
       " (2, -2.0, -1.0),\n",
       " (2, -2.0, -2.0),\n",
       " (2, -2.0, -4.0),\n",
       " (2, -4.0, 0.0),\n",
       " (2, -4.0, 1.0),\n",
       " (2, -4.0, 2.0),\n",
       " (2, -4.0, 4.0),\n",
       " (2, -4.0, -1.0),\n",
       " (2, -4.0, -2.0),\n",
       " (2, -4.0, -4.0)]"
      ]
     },
     "execution_count": 58,
     "metadata": {},
     "output_type": "execute_result"
    }
   ],
   "source": [
    "ListOfPositions"
   ]
  },
  {
   "cell_type": "code",
   "execution_count": 59,
   "id": "7b12ae83",
   "metadata": {},
   "outputs": [],
   "source": [
    "ListOfPositionsArr=np.array(ListOfPositions)"
   ]
  },
  {
   "cell_type": "markdown",
   "id": "55153a96",
   "metadata": {},
   "source": [
    "# GetTransmissions for different positions"
   ]
  },
  {
   "cell_type": "markdown",
   "id": "e3ff3603",
   "metadata": {},
   "source": [
    "## Array of lists"
   ]
  },
  {
   "cell_type": "code",
   "execution_count": 60,
   "id": "1961dfb7",
   "metadata": {},
   "outputs": [
    {
     "name": "stderr",
     "output_type": "stream",
     "text": [
      "<ipython-input-60-94a662fa2228>:1: DeprecationWarning: `np.object` is a deprecated alias for the builtin `object`. To silence this warning, use `object` by itself. Doing this will not modify any behavior and is safe. \n",
      "Deprecated in NumPy 1.20; for more details and guidance: https://numpy.org/devdocs/release/1.20.0-notes.html#deprecations\n",
      "  collectedtransmissions = np.empty(Npos, dtype=np.object)\n"
     ]
    }
   ],
   "source": [
    "collectedtransmissions = np.empty(Npos, dtype=np.object)"
   ]
  },
  {
   "cell_type": "code",
   "execution_count": 61,
   "id": "eaaacff2",
   "metadata": {},
   "outputs": [
    {
     "data": {
      "text/plain": [
       "array([None, None, None, None, None, None, None, None, None, None, None,\n",
       "       None, None, None, None, None, None, None, None, None, None, None,\n",
       "       None, None, None, None, None, None, None, None, None, None, None,\n",
       "       None, None, None, None, None, None, None, None, None, None, None,\n",
       "       None, None, None, None, None, None, None, None, None, None, None,\n",
       "       None, None, None, None, None, None, None, None, None, None, None,\n",
       "       None, None, None, None, None, None, None, None, None, None, None,\n",
       "       None, None, None, None, None, None, None, None, None, None, None,\n",
       "       None, None, None, None, None, None, None, None, None, None, None,\n",
       "       None, None, None, None, None, None, None, None, None, None, None,\n",
       "       None, None, None, None, None, None, None, None, None, None, None,\n",
       "       None, None, None, None, None, None, None, None, None, None, None,\n",
       "       None, None, None, None, None, None, None, None, None, None, None,\n",
       "       None], dtype=object)"
      ]
     },
     "execution_count": 61,
     "metadata": {},
     "output_type": "execute_result"
    }
   ],
   "source": [
    "collectedtransmissions"
   ]
  },
  {
   "cell_type": "markdown",
   "id": "2658a43d",
   "metadata": {},
   "source": [
    "## Fill array of lists"
   ]
  },
  {
   "cell_type": "code",
   "execution_count": 62,
   "id": "24fa5cfd",
   "metadata": {},
   "outputs": [],
   "source": [
    "for idx in np.arange(NARR):\n",
    "#for idx in np.arange(10):\n",
    "    \n",
    "    currentposition = (arr[idx][0],arr[idx][1], arr[idx][2] )\n",
    "    currentvalues = (arr[idx][3],arr[idx][4], arr[idx][5] )\n",
    "  \n",
    "    \n",
    "    idx2=0\n",
    "    for position in ListOfPositions:\n",
    "        if position == currentposition:\n",
    "            \n",
    "            if collectedtransmissions[idx2] == None:\n",
    "                collectedtransmissions[idx2] = []\n",
    "                collectedtransmissions[idx2].append(currentvalues)\n",
    "            else:\n",
    "                collectedtransmissions[idx2].append(currentvalues)\n",
    "            \n",
    "        "
   ]
  },
  {
   "cell_type": "code",
   "execution_count": 63,
   "id": "a0a1e0a1",
   "metadata": {},
   "outputs": [
    {
     "data": {
      "text/plain": [
       "(144,)"
      ]
     },
     "execution_count": 63,
     "metadata": {},
     "output_type": "execute_result"
    }
   ],
   "source": [
    "collectedtransmissions.shape"
   ]
  },
  {
   "cell_type": "markdown",
   "id": "6410828b",
   "metadata": {},
   "source": [
    "# Plot transmissions"
   ]
  },
  {
   "cell_type": "code",
   "execution_count": 64,
   "id": "929ffd9e",
   "metadata": {},
   "outputs": [
    {
     "data": {
      "text/plain": [
       "array([(0,  0.,  0., 400.014, 0.28404813, 7.02226350e-04),\n",
       "       (0,  0.,  0., 419.989, 0.09057611, 2.22853061e-04),\n",
       "       (0,  0.,  0., 440.023, 0.02899506, 5.77351450e-05), ...,\n",
       "       (2, -4., -4., 519.984, 0.06957727, 9.21319092e-05),\n",
       "       (2, -4., -4., 540.001, 0.05970568, 7.87463120e-05),\n",
       "       (2, -4., -4., 559.997, 0.03172864, 4.54447038e-05)],\n",
       "      dtype=[('order', '<i8'), ('dx', '<f8'), ('dy', '<f8'), ('wl', '<f8'), ('DE', '<f8'), ('DE_std', '<f8')])"
      ]
     },
     "execution_count": 64,
     "metadata": {},
     "output_type": "execute_result"
    }
   ],
   "source": [
    "np.asarray(arr)"
   ]
  },
  {
   "cell_type": "code",
   "execution_count": 65,
   "id": "bd392a7a",
   "metadata": {},
   "outputs": [],
   "source": [
    "Xpos=0\n",
    "Ypos=0\n",
    "Zpos=0\n",
    "\n",
    "wl=[]\n",
    "eff=[]\n",
    "eeff=[]\n",
    "\n",
    "for idx in np.arange(NARR):\n",
    "    if arr[idx][0] == Xpos and  arr[idx][1] == Ypos and  arr[idx][2] == Zpos :\n",
    "        wl.append(arr[idx][3])\n",
    "        eff.append(arr[idx][4])\n",
    "        eeff.append(arr[idx][5])\n",
    "    "
   ]
  },
  {
   "cell_type": "code",
   "execution_count": 66,
   "id": "0dc809ec",
   "metadata": {},
   "outputs": [
    {
     "data": {
      "text/plain": [
       "<ErrorbarContainer object of 3 artists>"
      ]
     },
     "execution_count": 66,
     "metadata": {},
     "output_type": "execute_result"
    },
    {
     "data": {
      "image/png": "[encoded data removed]",
      "text/plain": [
       "<Figure size 720x432 with 1 Axes>"
      ]
     },
     "metadata": {
      "needs_background": "light"
     },
     "output_type": "display_data"
    }
   ],
   "source": [
    "plt.errorbar(wl,eff,yerr=eeff,uplims=True, lolims=True)"
   ]
  },
  {
   "cell_type": "code",
   "execution_count": null,
   "id": "3d6e228a",
   "metadata": {},
   "outputs": [],
   "source": []
  }
 ],
 "metadata": {
  "kernelspec": {
   "display_name": "Python 3",
   "language": "python",
   "name": "python3"
  },
  "language_info": {
   "codemirror_mode": {
    "name": "ipython",
    "version": 3
   },
   "file_extension": ".py",
   "mimetype": "text/x-python",
   "name": "python",
   "nbconvert_exporter": "python",
   "pygments_lexer": "ipython3",
   "version": "3.8.8"
  },
  "toc": {
   "base_numbering": 1,
   "nav_menu": {},
   "number_sections": true,
   "sideBar": true,
   "skip_h1_title": false,
   "title_cell": "Table of Contents",
   "title_sidebar": "Contents",
   "toc_cell": false,
   "toc_position": {},
   "toc_section_display": true,
   "toc_window_display": false
  }
 },
 "nbformat": 4,
 "nbformat_minor": 5
}
